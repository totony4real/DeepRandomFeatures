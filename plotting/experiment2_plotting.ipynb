{
 "cells": [
  {
   "cell_type": "markdown",
   "metadata": {},
   "source": [
    "## Notebook for visualising experiment 2 results\n",
    "### This notebook is for user to visualise the results from experiment 2\n"
   ]
  },
  {
   "cell_type": "markdown",
   "metadata": {},
   "source": [
    "Defining Functions for Plotting: This section defines utility functions used for handling projections in the plots."
   ]
  },
  {
   "cell_type": "code",
   "execution_count": 1,
   "metadata": {},
   "outputs": [],
   "source": [
    "import torch\n",
    "import pandas as pd\n",
    "import matplotlib.pyplot as plt\n",
    "import cartopy.crs as ccrs\n",
    "import cartopy.feature as cfeat\n",
    "from pyproj import Transformer\n",
    "from global_land_mask import globe\n",
    "\n",
    "\n",
    "def EASE2toWGS84(x, y, return_vals=\"both\", lon_0=0, lat_0=90):\n",
    "\n",
    "    valid_return_vals = ['both', 'lon', 'lat']\n",
    "    assert return_vals in ['both', 'lon', 'lat'], f\"return_val: {return_vals} is not in valid set: {valid_return_vals}\"\n",
    "    EASE2 = f\"+proj=laea +lon_0={lon_0} +lat_0={lat_0} +x_0=0 +y_0=0 +ellps=WGS84 +towgs84=0,0,0,0,0,0,0 +units=m +no_defs\"\n",
    "    WGS84 = \"+proj=longlat +ellps=WGS84 +datum=WGS84 +no_defs\"\n",
    "    transformer = Transformer.from_crs(EASE2, WGS84)\n",
    "    lon, lat = transformer.transform(x, y)\n",
    "    if return_vals == \"both\":\n",
    "        return lon, lat\n",
    "    elif return_vals == \"lon\":\n",
    "        return lon\n",
    "    elif return_vals == \"lat\":\n",
    "        return lat\n",
    "\n",
    "def plot_f_star(data, lon_col, lat_col, f_star_col, title=None, vmin=None, vmax=None, cmap='YlGnBu_r', point_size=1):\n",
    "\n",
    "    fig = plt.figure(figsize=(12, 12))\n",
    "    ax = fig.add_subplot(1, 1, 1, projection=ccrs.NorthPolarStereo())\n",
    "    ax.coastlines(resolution='50m', color='white')\n",
    "    ax.add_feature(cfeat.LAND.with_scale('50m'), facecolor='lightgray', edgecolor='black', zorder=6)\n",
    "    ax.add_feature(cfeat.OCEAN.with_scale('50m'), facecolor='dimgray', edgecolor='black', zorder=5)\n",
    "    ax.gridlines()\n",
    "\n",
    "    scatter = ax.scatter(data[lon_col], data[lat_col], c=data[f_star_col],\n",
    "                         cmap=cmap, vmin=vmin, vmax=vmax, transform=ccrs.PlateCarree(), s=point_size, zorder=7)\n",
    "    cbar = fig.colorbar(scatter, ax=ax, orientation='horizontal', pad=0.05, shrink=0.8)\n",
    "    cbar.set_label(f\"{f_star_col} values\", fontsize=14)\n",
    "    cbar.ax.tick_params(labelsize=12)\n",
    "\n",
    "    if title:\n",
    "        ax.set_title(title, fontsize=16)\n",
    "\n",
    "    plt.tight_layout()\n",
    "    plt.show()\n"
   ]
  },
  {
   "cell_type": "markdown",
   "metadata": {},
   "source": [
    "Loading Data: The next cell loads the necessary data for plotting."
   ]
  },
  {
   "cell_type": "code",
   "execution_count": null,
   "metadata": {},
   "outputs": [],
   "source": [
    "predicted_mean = torch.load('final_predictions_exp2.pt')\n",
    "predicted_var = torch.load('final_variance_exp2.pt')\n",
    "test_data_path = '/test_loc.csv'\n",
    "pred_df = pd.read_csv(test_data_path)\n",
    "\n",
    "print(pred_df.shape) \n",
    "\n",
    "print(pred_df.head())\n",
    "print(pred_df.isnull().sum())\n",
    "\n",
    "pred_df['lon'], pred_df['lat'] = EASE2toWGS84(pred_df['pred_loc_x'], pred_df['pred_loc_y'])\n",
    "average_predictions = predicted_mean\n",
    "average_predictions = torch.Tensor(average_predictions)\n",
    "predicted_var = torch.Tensor(predicted_var)\n",
    "predicted_var_np = predicted_var.cpu().numpy().flatten()\n",
    "predicted_var_np = predicted_var_np.flatten()\n",
    "print(average_predictions.shape)\n",
    "average_predictions_np = average_predictions.cpu().numpy().flatten()\n",
    "average_predictions_np = average_predictions_np.flatten()\n",
    "\n",
    "pred_df['f*'] = average_predictions_np\n",
    "pred_df['f*_var'] = predicted_var_np\n",
    "pred_df[\"is_in_ocean\"] = globe.is_ocean(pred_df['lat'], pred_df['lon'])\n",
    "pred_df = pred_df.loc[pred_df['is_in_ocean']]\n"
   ]
  },
  {
   "cell_type": "markdown",
   "metadata": {},
   "source": [
    "Final Plotting: With all data prepared, we now plot the model predictions (prediceted mean and variance)"
   ]
  },
  {
   "cell_type": "code",
   "execution_count": null,
   "metadata": {},
   "outputs": [],
   "source": [
    "plot_f_star(pred_df, lon_col='lon', lat_col='lat', f_star_col='f*',\n",
    "            title=\"f*\", vmin=-0.1, vmax=0.3, point_size=1)\n"
   ]
  },
  {
   "cell_type": "code",
   "execution_count": null,
   "metadata": {},
   "outputs": [],
   "source": [
    "plot_f_star(pred_df, lon_col='lon', lat_col='lat', f_star_col='f*_var',\n",
    "            title=\"f*\", vmin=0, vmax=0.01, point_size=1)\n"
   ]
  }
 ],
 "metadata": {
  "kernelspec": {
   "display_name": "drfsat_new",
   "language": "python",
   "name": "python3"
  },
  "language_info": {
   "codemirror_mode": {
    "name": "ipython",
    "version": 3
   },
   "file_extension": ".py",
   "mimetype": "text/x-python",
   "name": "python",
   "nbconvert_exporter": "python",
   "pygments_lexer": "ipython3",
   "version": "3.10.13"
  }
 },
 "nbformat": 4,
 "nbformat_minor": 2
}
